{
 "cells": [
  {
   "cell_type": "markdown",
   "id": "34fedc59",
   "metadata": {},
   "source": [
    "# Car_Price_Prediction"
   ]
  },
  {
   "cell_type": "code",
   "execution_count": 74,
   "id": "f587bff4",
   "metadata": {},
   "outputs": [],
   "source": [
    "import numpy as np\n",
    "import pandas as pd\n",
    "import matplotlib.pyplot as plt\n",
    "import seaborn as sns\n",
    "from sklearn.model_selection import train_test_split\n",
    "from sklearn.linear_model import LinearRegression\n",
    "from sklearn import metrics"
   ]
  },
  {
   "cell_type": "code",
   "execution_count": 75,
   "id": "1d5cf75c",
   "metadata": {},
   "outputs": [],
   "source": [
    "df=pd.read_csv('car data.csv')"
   ]
  },
  {
   "cell_type": "code",
   "execution_count": 76,
   "id": "69e43666",
   "metadata": {},
   "outputs": [
    {
     "data": {
      "text/html": [
       "<div>\n",
       "<style scoped>\n",
       "    .dataframe tbody tr th:only-of-type {\n",
       "        vertical-align: middle;\n",
       "    }\n",
       "\n",
       "    .dataframe tbody tr th {\n",
       "        vertical-align: top;\n",
       "    }\n",
       "\n",
       "    .dataframe thead th {\n",
       "        text-align: right;\n",
       "    }\n",
       "</style>\n",
       "<table border=\"1\" class=\"dataframe\">\n",
       "  <thead>\n",
       "    <tr style=\"text-align: right;\">\n",
       "      <th></th>\n",
       "      <th>Car_Name</th>\n",
       "      <th>Year</th>\n",
       "      <th>Selling_Price</th>\n",
       "      <th>Present_Price</th>\n",
       "      <th>Kms_Driven</th>\n",
       "      <th>Fuel_Type</th>\n",
       "      <th>Seller_Type</th>\n",
       "      <th>Transmission</th>\n",
       "      <th>Owner</th>\n",
       "    </tr>\n",
       "  </thead>\n",
       "  <tbody>\n",
       "    <tr>\n",
       "      <th>0</th>\n",
       "      <td>ritz</td>\n",
       "      <td>2014</td>\n",
       "      <td>3.35</td>\n",
       "      <td>5.59</td>\n",
       "      <td>27000</td>\n",
       "      <td>Petrol</td>\n",
       "      <td>Dealer</td>\n",
       "      <td>Manual</td>\n",
       "      <td>0</td>\n",
       "    </tr>\n",
       "    <tr>\n",
       "      <th>1</th>\n",
       "      <td>sx4</td>\n",
       "      <td>2013</td>\n",
       "      <td>4.75</td>\n",
       "      <td>9.54</td>\n",
       "      <td>43000</td>\n",
       "      <td>Diesel</td>\n",
       "      <td>Dealer</td>\n",
       "      <td>Manual</td>\n",
       "      <td>0</td>\n",
       "    </tr>\n",
       "    <tr>\n",
       "      <th>2</th>\n",
       "      <td>ciaz</td>\n",
       "      <td>2017</td>\n",
       "      <td>7.25</td>\n",
       "      <td>9.85</td>\n",
       "      <td>6900</td>\n",
       "      <td>Petrol</td>\n",
       "      <td>Dealer</td>\n",
       "      <td>Manual</td>\n",
       "      <td>0</td>\n",
       "    </tr>\n",
       "    <tr>\n",
       "      <th>3</th>\n",
       "      <td>wagon r</td>\n",
       "      <td>2011</td>\n",
       "      <td>2.85</td>\n",
       "      <td>4.15</td>\n",
       "      <td>5200</td>\n",
       "      <td>Petrol</td>\n",
       "      <td>Dealer</td>\n",
       "      <td>Manual</td>\n",
       "      <td>0</td>\n",
       "    </tr>\n",
       "    <tr>\n",
       "      <th>4</th>\n",
       "      <td>swift</td>\n",
       "      <td>2014</td>\n",
       "      <td>4.60</td>\n",
       "      <td>6.87</td>\n",
       "      <td>42450</td>\n",
       "      <td>Diesel</td>\n",
       "      <td>Dealer</td>\n",
       "      <td>Manual</td>\n",
       "      <td>0</td>\n",
       "    </tr>\n",
       "    <tr>\n",
       "      <th>...</th>\n",
       "      <td>...</td>\n",
       "      <td>...</td>\n",
       "      <td>...</td>\n",
       "      <td>...</td>\n",
       "      <td>...</td>\n",
       "      <td>...</td>\n",
       "      <td>...</td>\n",
       "      <td>...</td>\n",
       "      <td>...</td>\n",
       "    </tr>\n",
       "    <tr>\n",
       "      <th>296</th>\n",
       "      <td>city</td>\n",
       "      <td>2016</td>\n",
       "      <td>9.50</td>\n",
       "      <td>11.60</td>\n",
       "      <td>33988</td>\n",
       "      <td>Diesel</td>\n",
       "      <td>Dealer</td>\n",
       "      <td>Manual</td>\n",
       "      <td>0</td>\n",
       "    </tr>\n",
       "    <tr>\n",
       "      <th>297</th>\n",
       "      <td>brio</td>\n",
       "      <td>2015</td>\n",
       "      <td>4.00</td>\n",
       "      <td>5.90</td>\n",
       "      <td>60000</td>\n",
       "      <td>Petrol</td>\n",
       "      <td>Dealer</td>\n",
       "      <td>Manual</td>\n",
       "      <td>0</td>\n",
       "    </tr>\n",
       "    <tr>\n",
       "      <th>298</th>\n",
       "      <td>city</td>\n",
       "      <td>2009</td>\n",
       "      <td>3.35</td>\n",
       "      <td>11.00</td>\n",
       "      <td>87934</td>\n",
       "      <td>Petrol</td>\n",
       "      <td>Dealer</td>\n",
       "      <td>Manual</td>\n",
       "      <td>0</td>\n",
       "    </tr>\n",
       "    <tr>\n",
       "      <th>299</th>\n",
       "      <td>city</td>\n",
       "      <td>2017</td>\n",
       "      <td>11.50</td>\n",
       "      <td>12.50</td>\n",
       "      <td>9000</td>\n",
       "      <td>Diesel</td>\n",
       "      <td>Dealer</td>\n",
       "      <td>Manual</td>\n",
       "      <td>0</td>\n",
       "    </tr>\n",
       "    <tr>\n",
       "      <th>300</th>\n",
       "      <td>brio</td>\n",
       "      <td>2016</td>\n",
       "      <td>5.30</td>\n",
       "      <td>5.90</td>\n",
       "      <td>5464</td>\n",
       "      <td>Petrol</td>\n",
       "      <td>Dealer</td>\n",
       "      <td>Manual</td>\n",
       "      <td>0</td>\n",
       "    </tr>\n",
       "  </tbody>\n",
       "</table>\n",
       "<p>301 rows × 9 columns</p>\n",
       "</div>"
      ],
      "text/plain": [
       "    Car_Name  Year  Selling_Price  Present_Price  Kms_Driven Fuel_Type  \\\n",
       "0       ritz  2014           3.35           5.59       27000    Petrol   \n",
       "1        sx4  2013           4.75           9.54       43000    Diesel   \n",
       "2       ciaz  2017           7.25           9.85        6900    Petrol   \n",
       "3    wagon r  2011           2.85           4.15        5200    Petrol   \n",
       "4      swift  2014           4.60           6.87       42450    Diesel   \n",
       "..       ...   ...            ...            ...         ...       ...   \n",
       "296     city  2016           9.50          11.60       33988    Diesel   \n",
       "297     brio  2015           4.00           5.90       60000    Petrol   \n",
       "298     city  2009           3.35          11.00       87934    Petrol   \n",
       "299     city  2017          11.50          12.50        9000    Diesel   \n",
       "300     brio  2016           5.30           5.90        5464    Petrol   \n",
       "\n",
       "    Seller_Type Transmission  Owner  \n",
       "0        Dealer       Manual      0  \n",
       "1        Dealer       Manual      0  \n",
       "2        Dealer       Manual      0  \n",
       "3        Dealer       Manual      0  \n",
       "4        Dealer       Manual      0  \n",
       "..          ...          ...    ...  \n",
       "296      Dealer       Manual      0  \n",
       "297      Dealer       Manual      0  \n",
       "298      Dealer       Manual      0  \n",
       "299      Dealer       Manual      0  \n",
       "300      Dealer       Manual      0  \n",
       "\n",
       "[301 rows x 9 columns]"
      ]
     },
     "execution_count": 76,
     "metadata": {},
     "output_type": "execute_result"
    }
   ],
   "source": [
    "df"
   ]
  },
  {
   "cell_type": "code",
   "execution_count": 77,
   "id": "e9db6222",
   "metadata": {},
   "outputs": [
    {
     "data": {
      "text/html": [
       "<div>\n",
       "<style scoped>\n",
       "    .dataframe tbody tr th:only-of-type {\n",
       "        vertical-align: middle;\n",
       "    }\n",
       "\n",
       "    .dataframe tbody tr th {\n",
       "        vertical-align: top;\n",
       "    }\n",
       "\n",
       "    .dataframe thead th {\n",
       "        text-align: right;\n",
       "    }\n",
       "</style>\n",
       "<table border=\"1\" class=\"dataframe\">\n",
       "  <thead>\n",
       "    <tr style=\"text-align: right;\">\n",
       "      <th></th>\n",
       "      <th>Car_Name</th>\n",
       "      <th>Year</th>\n",
       "      <th>Selling_Price</th>\n",
       "      <th>Present_Price</th>\n",
       "      <th>Kms_Driven</th>\n",
       "      <th>Fuel_Type</th>\n",
       "      <th>Seller_Type</th>\n",
       "      <th>Transmission</th>\n",
       "      <th>Owner</th>\n",
       "    </tr>\n",
       "  </thead>\n",
       "  <tbody>\n",
       "    <tr>\n",
       "      <th>0</th>\n",
       "      <td>ritz</td>\n",
       "      <td>2014</td>\n",
       "      <td>3.35</td>\n",
       "      <td>5.59</td>\n",
       "      <td>27000</td>\n",
       "      <td>Petrol</td>\n",
       "      <td>Dealer</td>\n",
       "      <td>Manual</td>\n",
       "      <td>0</td>\n",
       "    </tr>\n",
       "    <tr>\n",
       "      <th>1</th>\n",
       "      <td>sx4</td>\n",
       "      <td>2013</td>\n",
       "      <td>4.75</td>\n",
       "      <td>9.54</td>\n",
       "      <td>43000</td>\n",
       "      <td>Diesel</td>\n",
       "      <td>Dealer</td>\n",
       "      <td>Manual</td>\n",
       "      <td>0</td>\n",
       "    </tr>\n",
       "    <tr>\n",
       "      <th>2</th>\n",
       "      <td>ciaz</td>\n",
       "      <td>2017</td>\n",
       "      <td>7.25</td>\n",
       "      <td>9.85</td>\n",
       "      <td>6900</td>\n",
       "      <td>Petrol</td>\n",
       "      <td>Dealer</td>\n",
       "      <td>Manual</td>\n",
       "      <td>0</td>\n",
       "    </tr>\n",
       "    <tr>\n",
       "      <th>3</th>\n",
       "      <td>wagon r</td>\n",
       "      <td>2011</td>\n",
       "      <td>2.85</td>\n",
       "      <td>4.15</td>\n",
       "      <td>5200</td>\n",
       "      <td>Petrol</td>\n",
       "      <td>Dealer</td>\n",
       "      <td>Manual</td>\n",
       "      <td>0</td>\n",
       "    </tr>\n",
       "    <tr>\n",
       "      <th>4</th>\n",
       "      <td>swift</td>\n",
       "      <td>2014</td>\n",
       "      <td>4.60</td>\n",
       "      <td>6.87</td>\n",
       "      <td>42450</td>\n",
       "      <td>Diesel</td>\n",
       "      <td>Dealer</td>\n",
       "      <td>Manual</td>\n",
       "      <td>0</td>\n",
       "    </tr>\n",
       "  </tbody>\n",
       "</table>\n",
       "</div>"
      ],
      "text/plain": [
       "  Car_Name  Year  Selling_Price  Present_Price  Kms_Driven Fuel_Type  \\\n",
       "0     ritz  2014           3.35           5.59       27000    Petrol   \n",
       "1      sx4  2013           4.75           9.54       43000    Diesel   \n",
       "2     ciaz  2017           7.25           9.85        6900    Petrol   \n",
       "3  wagon r  2011           2.85           4.15        5200    Petrol   \n",
       "4    swift  2014           4.60           6.87       42450    Diesel   \n",
       "\n",
       "  Seller_Type Transmission  Owner  \n",
       "0      Dealer       Manual      0  \n",
       "1      Dealer       Manual      0  \n",
       "2      Dealer       Manual      0  \n",
       "3      Dealer       Manual      0  \n",
       "4      Dealer       Manual      0  "
      ]
     },
     "execution_count": 77,
     "metadata": {},
     "output_type": "execute_result"
    }
   ],
   "source": [
    "df.head()"
   ]
  },
  {
   "cell_type": "code",
   "execution_count": 78,
   "id": "f8e3393c",
   "metadata": {},
   "outputs": [
    {
     "name": "stdout",
     "output_type": "stream",
     "text": [
      "<class 'pandas.core.frame.DataFrame'>\n",
      "RangeIndex: 301 entries, 0 to 300\n",
      "Data columns (total 9 columns):\n",
      " #   Column         Non-Null Count  Dtype  \n",
      "---  ------         --------------  -----  \n",
      " 0   Car_Name       301 non-null    object \n",
      " 1   Year           301 non-null    int64  \n",
      " 2   Selling_Price  301 non-null    float64\n",
      " 3   Present_Price  301 non-null    float64\n",
      " 4   Kms_Driven     301 non-null    int64  \n",
      " 5   Fuel_Type      301 non-null    object \n",
      " 6   Seller_Type    301 non-null    object \n",
      " 7   Transmission   301 non-null    object \n",
      " 8   Owner          301 non-null    int64  \n",
      "dtypes: float64(2), int64(3), object(4)\n",
      "memory usage: 21.3+ KB\n"
     ]
    }
   ],
   "source": [
    "df.info()"
   ]
  },
  {
   "cell_type": "code",
   "execution_count": 79,
   "id": "f790b119",
   "metadata": {},
   "outputs": [
    {
     "data": {
      "text/plain": [
       "Car_Name         0\n",
       "Year             0\n",
       "Selling_Price    0\n",
       "Present_Price    0\n",
       "Kms_Driven       0\n",
       "Fuel_Type        0\n",
       "Seller_Type      0\n",
       "Transmission     0\n",
       "Owner            0\n",
       "dtype: int64"
      ]
     },
     "execution_count": 79,
     "metadata": {},
     "output_type": "execute_result"
    }
   ],
   "source": [
    "##for checking the missing the data \n",
    "df.isnull().sum()"
   ]
  },
  {
   "cell_type": "code",
   "execution_count": 80,
   "id": "58e28b37",
   "metadata": {},
   "outputs": [
    {
     "data": {
      "text/plain": [
       "<Axes: >"
      ]
     },
     "execution_count": 80,
     "metadata": {},
     "output_type": "execute_result"
    },
    {
     "data": {
      "image/png": "[encoded data removed]",
      "text/plain": [
       "<Figure size 640x480 with 1 Axes>"
      ]
     },
     "metadata": {},
     "output_type": "display_data"
    }
   ],
   "source": [
    "## if we see it in our visualization tool we use \n",
    "sns.heatmap(df.isnull(),yticklabels=False,cbar=False,cmap='viridis')"
   ]
  },
  {
   "cell_type": "code",
   "execution_count": 81,
   "id": "fc67d2ac",
   "metadata": {},
   "outputs": [
    {
     "name": "stdout",
     "output_type": "stream",
     "text": [
      "Car_Name\n",
      "city                        26\n",
      "corolla altis               16\n",
      "verna                       14\n",
      "fortuner                    11\n",
      "brio                        10\n",
      "                            ..\n",
      "Honda CB Trigger             1\n",
      "Yamaha FZ S                  1\n",
      "Bajaj Pulsar 135 LS          1\n",
      "Activa 4g                    1\n",
      "Bajaj Avenger Street 220     1\n",
      "Name: count, Length: 98, dtype: int64\n",
      "Fuel_Type\n",
      "Petrol    239\n",
      "Diesel     60\n",
      "CNG         2\n",
      "Name: count, dtype: int64\n",
      "Seller_Type\n",
      "Dealer        195\n",
      "Individual    106\n",
      "Name: count, dtype: int64\n",
      "Transmission\n",
      "Manual       261\n",
      "Automatic     40\n",
      "Name: count, dtype: int64\n"
     ]
    }
   ],
   "source": [
    "#checking the distribution the catecorical data \n",
    "print(df.Car_Name.value_counts())\n",
    "print(df.Fuel_Type.value_counts())\n",
    "print(df.Seller_Type.value_counts())\n",
    "print(df.Transmission.value_counts())"
   ]
  },
  {
   "cell_type": "code",
   "execution_count": 82,
   "id": "6c919c1d",
   "metadata": {},
   "outputs": [
    {
     "data": {
      "text/html": [
       "<div>\n",
       "<style scoped>\n",
       "    .dataframe tbody tr th:only-of-type {\n",
       "        vertical-align: middle;\n",
       "    }\n",
       "\n",
       "    .dataframe tbody tr th {\n",
       "        vertical-align: top;\n",
       "    }\n",
       "\n",
       "    .dataframe thead th {\n",
       "        text-align: right;\n",
       "    }\n",
       "</style>\n",
       "<table border=\"1\" class=\"dataframe\">\n",
       "  <thead>\n",
       "    <tr style=\"text-align: right;\">\n",
       "      <th></th>\n",
       "      <th>Car_Name</th>\n",
       "      <th>Year</th>\n",
       "      <th>Selling_Price</th>\n",
       "      <th>Present_Price</th>\n",
       "      <th>Kms_Driven</th>\n",
       "      <th>Fuel_Type</th>\n",
       "      <th>Seller_Type</th>\n",
       "      <th>Transmission</th>\n",
       "      <th>Owner</th>\n",
       "    </tr>\n",
       "  </thead>\n",
       "  <tbody>\n",
       "    <tr>\n",
       "      <th>0</th>\n",
       "      <td>ritz</td>\n",
       "      <td>2014</td>\n",
       "      <td>3.35</td>\n",
       "      <td>5.59</td>\n",
       "      <td>27000</td>\n",
       "      <td>Petrol</td>\n",
       "      <td>Dealer</td>\n",
       "      <td>Manual</td>\n",
       "      <td>0</td>\n",
       "    </tr>\n",
       "    <tr>\n",
       "      <th>1</th>\n",
       "      <td>sx4</td>\n",
       "      <td>2013</td>\n",
       "      <td>4.75</td>\n",
       "      <td>9.54</td>\n",
       "      <td>43000</td>\n",
       "      <td>Diesel</td>\n",
       "      <td>Dealer</td>\n",
       "      <td>Manual</td>\n",
       "      <td>0</td>\n",
       "    </tr>\n",
       "    <tr>\n",
       "      <th>2</th>\n",
       "      <td>ciaz</td>\n",
       "      <td>2017</td>\n",
       "      <td>7.25</td>\n",
       "      <td>9.85</td>\n",
       "      <td>6900</td>\n",
       "      <td>Petrol</td>\n",
       "      <td>Dealer</td>\n",
       "      <td>Manual</td>\n",
       "      <td>0</td>\n",
       "    </tr>\n",
       "    <tr>\n",
       "      <th>3</th>\n",
       "      <td>wagon r</td>\n",
       "      <td>2011</td>\n",
       "      <td>2.85</td>\n",
       "      <td>4.15</td>\n",
       "      <td>5200</td>\n",
       "      <td>Petrol</td>\n",
       "      <td>Dealer</td>\n",
       "      <td>Manual</td>\n",
       "      <td>0</td>\n",
       "    </tr>\n",
       "    <tr>\n",
       "      <th>4</th>\n",
       "      <td>swift</td>\n",
       "      <td>2014</td>\n",
       "      <td>4.60</td>\n",
       "      <td>6.87</td>\n",
       "      <td>42450</td>\n",
       "      <td>Diesel</td>\n",
       "      <td>Dealer</td>\n",
       "      <td>Manual</td>\n",
       "      <td>0</td>\n",
       "    </tr>\n",
       "  </tbody>\n",
       "</table>\n",
       "</div>"
      ],
      "text/plain": [
       "  Car_Name  Year  Selling_Price  Present_Price  Kms_Driven Fuel_Type  \\\n",
       "0     ritz  2014           3.35           5.59       27000    Petrol   \n",
       "1      sx4  2013           4.75           9.54       43000    Diesel   \n",
       "2     ciaz  2017           7.25           9.85        6900    Petrol   \n",
       "3  wagon r  2011           2.85           4.15        5200    Petrol   \n",
       "4    swift  2014           4.60           6.87       42450    Diesel   \n",
       "\n",
       "  Seller_Type Transmission  Owner  \n",
       "0      Dealer       Manual      0  \n",
       "1      Dealer       Manual      0  \n",
       "2      Dealer       Manual      0  \n",
       "3      Dealer       Manual      0  \n",
       "4      Dealer       Manual      0  "
      ]
     },
     "execution_count": 82,
     "metadata": {},
     "output_type": "execute_result"
    }
   ],
   "source": [
    "df.head()"
   ]
  },
  {
   "cell_type": "code",
   "execution_count": 67,
   "id": "63e49aed",
   "metadata": {},
   "outputs": [],
   "source": [
    "#encoding the categorical data "
   ]
  },
  {
   "cell_type": "code",
   "execution_count": 83,
   "id": "4f8bfe8a",
   "metadata": {},
   "outputs": [],
   "source": [
    "df.replace({'Fuel_Type':{'Petrol':0,'Diesel':1,'CNG':2}},inplace=True)\n",
    "df.replace({'Seller_Type':{'Dealer':0,'Individual':1}},inplace=True)\n",
    "df.replace({'Transmission':{'Manual':0,'Automatic':1}},inplace=True)"
   ]
  },
  {
   "cell_type": "code",
   "execution_count": 84,
   "id": "43e7293b",
   "metadata": {},
   "outputs": [
    {
     "data": {
      "text/html": [
       "<div>\n",
       "<style scoped>\n",
       "    .dataframe tbody tr th:only-of-type {\n",
       "        vertical-align: middle;\n",
       "    }\n",
       "\n",
       "    .dataframe tbody tr th {\n",
       "        vertical-align: top;\n",
       "    }\n",
       "\n",
       "    .dataframe thead th {\n",
       "        text-align: right;\n",
       "    }\n",
       "</style>\n",
       "<table border=\"1\" class=\"dataframe\">\n",
       "  <thead>\n",
       "    <tr style=\"text-align: right;\">\n",
       "      <th></th>\n",
       "      <th>Car_Name</th>\n",
       "      <th>Year</th>\n",
       "      <th>Selling_Price</th>\n",
       "      <th>Present_Price</th>\n",
       "      <th>Kms_Driven</th>\n",
       "      <th>Fuel_Type</th>\n",
       "      <th>Seller_Type</th>\n",
       "      <th>Transmission</th>\n",
       "      <th>Owner</th>\n",
       "    </tr>\n",
       "  </thead>\n",
       "  <tbody>\n",
       "    <tr>\n",
       "      <th>0</th>\n",
       "      <td>ritz</td>\n",
       "      <td>2014</td>\n",
       "      <td>3.35</td>\n",
       "      <td>5.59</td>\n",
       "      <td>27000</td>\n",
       "      <td>0</td>\n",
       "      <td>0</td>\n",
       "      <td>0</td>\n",
       "      <td>0</td>\n",
       "    </tr>\n",
       "    <tr>\n",
       "      <th>1</th>\n",
       "      <td>sx4</td>\n",
       "      <td>2013</td>\n",
       "      <td>4.75</td>\n",
       "      <td>9.54</td>\n",
       "      <td>43000</td>\n",
       "      <td>1</td>\n",
       "      <td>0</td>\n",
       "      <td>0</td>\n",
       "      <td>0</td>\n",
       "    </tr>\n",
       "    <tr>\n",
       "      <th>2</th>\n",
       "      <td>ciaz</td>\n",
       "      <td>2017</td>\n",
       "      <td>7.25</td>\n",
       "      <td>9.85</td>\n",
       "      <td>6900</td>\n",
       "      <td>0</td>\n",
       "      <td>0</td>\n",
       "      <td>0</td>\n",
       "      <td>0</td>\n",
       "    </tr>\n",
       "    <tr>\n",
       "      <th>3</th>\n",
       "      <td>wagon r</td>\n",
       "      <td>2011</td>\n",
       "      <td>2.85</td>\n",
       "      <td>4.15</td>\n",
       "      <td>5200</td>\n",
       "      <td>0</td>\n",
       "      <td>0</td>\n",
       "      <td>0</td>\n",
       "      <td>0</td>\n",
       "    </tr>\n",
       "    <tr>\n",
       "      <th>4</th>\n",
       "      <td>swift</td>\n",
       "      <td>2014</td>\n",
       "      <td>4.60</td>\n",
       "      <td>6.87</td>\n",
       "      <td>42450</td>\n",
       "      <td>1</td>\n",
       "      <td>0</td>\n",
       "      <td>0</td>\n",
       "      <td>0</td>\n",
       "    </tr>\n",
       "  </tbody>\n",
       "</table>\n",
       "</div>"
      ],
      "text/plain": [
       "  Car_Name  Year  Selling_Price  Present_Price  Kms_Driven  Fuel_Type  \\\n",
       "0     ritz  2014           3.35           5.59       27000          0   \n",
       "1      sx4  2013           4.75           9.54       43000          1   \n",
       "2     ciaz  2017           7.25           9.85        6900          0   \n",
       "3  wagon r  2011           2.85           4.15        5200          0   \n",
       "4    swift  2014           4.60           6.87       42450          1   \n",
       "\n",
       "   Seller_Type  Transmission  Owner  \n",
       "0            0             0      0  \n",
       "1            0             0      0  \n",
       "2            0             0      0  \n",
       "3            0             0      0  \n",
       "4            0             0      0  "
      ]
     },
     "execution_count": 84,
     "metadata": {},
     "output_type": "execute_result"
    }
   ],
   "source": [
    "df.head()"
   ]
  },
  {
   "cell_type": "code",
   "execution_count": 18,
   "id": "7515331c",
   "metadata": {},
   "outputs": [],
   "source": [
    "#spliting the data into training data and test data "
   ]
  },
  {
   "cell_type": "code",
   "execution_count": 85,
   "id": "645eceeb",
   "metadata": {},
   "outputs": [],
   "source": [
    "X=df.drop(['Car_Name','Selling_Price'],axis=1)\n",
    "y=df['Selling_Price']"
   ]
  },
  {
   "cell_type": "code",
   "execution_count": 52,
   "id": "49c09ab9",
   "metadata": {},
   "outputs": [],
   "source": [
    "#X=df.drop(['Selling_Price'],axis=1,inplace=True)"
   ]
  },
  {
   "cell_type": "code",
   "execution_count": 86,
   "id": "5e9033e5",
   "metadata": {},
   "outputs": [
    {
     "name": "stdout",
     "output_type": "stream",
     "text": [
      "     Year  Present_Price  Kms_Driven  Fuel_Type  Seller_Type  Transmission  \\\n",
      "0    2014           5.59       27000          0            0             0   \n",
      "1    2013           9.54       43000          1            0             0   \n",
      "2    2017           9.85        6900          0            0             0   \n",
      "3    2011           4.15        5200          0            0             0   \n",
      "4    2014           6.87       42450          1            0             0   \n",
      "..    ...            ...         ...        ...          ...           ...   \n",
      "296  2016          11.60       33988          1            0             0   \n",
      "297  2015           5.90       60000          0            0             0   \n",
      "298  2009          11.00       87934          0            0             0   \n",
      "299  2017          12.50        9000          1            0             0   \n",
      "300  2016           5.90        5464          0            0             0   \n",
      "\n",
      "     Owner  \n",
      "0        0  \n",
      "1        0  \n",
      "2        0  \n",
      "3        0  \n",
      "4        0  \n",
      "..     ...  \n",
      "296      0  \n",
      "297      0  \n",
      "298      0  \n",
      "299      0  \n",
      "300      0  \n",
      "\n",
      "[301 rows x 7 columns]\n"
     ]
    }
   ],
   "source": [
    "print(X)"
   ]
  },
  {
   "cell_type": "code",
   "execution_count": 87,
   "id": "8cebaf20",
   "metadata": {},
   "outputs": [
    {
     "data": {
      "text/plain": [
       "0       3.35\n",
       "1       4.75\n",
       "2       7.25\n",
       "3       2.85\n",
       "4       4.60\n",
       "       ...  \n",
       "296     9.50\n",
       "297     4.00\n",
       "298     3.35\n",
       "299    11.50\n",
       "300     5.30\n",
       "Name: Selling_Price, Length: 301, dtype: float64"
      ]
     },
     "execution_count": 87,
     "metadata": {},
     "output_type": "execute_result"
    }
   ],
   "source": [
    "y"
   ]
  },
  {
   "cell_type": "code",
   "execution_count": 88,
   "id": "3fd6cb74",
   "metadata": {},
   "outputs": [],
   "source": [
    "#spliting the traning and test data "
   ]
  },
  {
   "cell_type": "code",
   "execution_count": 89,
   "id": "19151af5",
   "metadata": {},
   "outputs": [],
   "source": [
    "X_train, X_test, y_train, y_test = train_test_split(\n",
    "    X, y, test_size=0.1, random_state=2)"
   ]
  },
  {
   "cell_type": "code",
   "execution_count": 90,
   "id": "be006c93",
   "metadata": {},
   "outputs": [
    {
     "data": {
      "text/html": [
       "<div>\n",
       "<style scoped>\n",
       "    .dataframe tbody tr th:only-of-type {\n",
       "        vertical-align: middle;\n",
       "    }\n",
       "\n",
       "    .dataframe tbody tr th {\n",
       "        vertical-align: top;\n",
       "    }\n",
       "\n",
       "    .dataframe thead th {\n",
       "        text-align: right;\n",
       "    }\n",
       "</style>\n",
       "<table border=\"1\" class=\"dataframe\">\n",
       "  <thead>\n",
       "    <tr style=\"text-align: right;\">\n",
       "      <th></th>\n",
       "      <th>Year</th>\n",
       "      <th>Present_Price</th>\n",
       "      <th>Kms_Driven</th>\n",
       "      <th>Fuel_Type</th>\n",
       "      <th>Seller_Type</th>\n",
       "      <th>Transmission</th>\n",
       "      <th>Owner</th>\n",
       "    </tr>\n",
       "  </thead>\n",
       "  <tbody>\n",
       "    <tr>\n",
       "      <th>204</th>\n",
       "      <td>2015</td>\n",
       "      <td>4.430</td>\n",
       "      <td>28282</td>\n",
       "      <td>0</td>\n",
       "      <td>0</td>\n",
       "      <td>0</td>\n",
       "      <td>0</td>\n",
       "    </tr>\n",
       "    <tr>\n",
       "      <th>249</th>\n",
       "      <td>2016</td>\n",
       "      <td>7.600</td>\n",
       "      <td>17000</td>\n",
       "      <td>0</td>\n",
       "      <td>0</td>\n",
       "      <td>0</td>\n",
       "      <td>0</td>\n",
       "    </tr>\n",
       "    <tr>\n",
       "      <th>277</th>\n",
       "      <td>2015</td>\n",
       "      <td>13.600</td>\n",
       "      <td>21780</td>\n",
       "      <td>0</td>\n",
       "      <td>0</td>\n",
       "      <td>0</td>\n",
       "      <td>0</td>\n",
       "    </tr>\n",
       "    <tr>\n",
       "      <th>194</th>\n",
       "      <td>2008</td>\n",
       "      <td>0.787</td>\n",
       "      <td>50000</td>\n",
       "      <td>0</td>\n",
       "      <td>1</td>\n",
       "      <td>0</td>\n",
       "      <td>0</td>\n",
       "    </tr>\n",
       "    <tr>\n",
       "      <th>244</th>\n",
       "      <td>2013</td>\n",
       "      <td>9.400</td>\n",
       "      <td>49000</td>\n",
       "      <td>1</td>\n",
       "      <td>0</td>\n",
       "      <td>0</td>\n",
       "      <td>0</td>\n",
       "    </tr>\n",
       "    <tr>\n",
       "      <th>...</th>\n",
       "      <td>...</td>\n",
       "      <td>...</td>\n",
       "      <td>...</td>\n",
       "      <td>...</td>\n",
       "      <td>...</td>\n",
       "      <td>...</td>\n",
       "      <td>...</td>\n",
       "    </tr>\n",
       "    <tr>\n",
       "      <th>75</th>\n",
       "      <td>2015</td>\n",
       "      <td>6.800</td>\n",
       "      <td>36000</td>\n",
       "      <td>0</td>\n",
       "      <td>0</td>\n",
       "      <td>0</td>\n",
       "      <td>0</td>\n",
       "    </tr>\n",
       "    <tr>\n",
       "      <th>22</th>\n",
       "      <td>2011</td>\n",
       "      <td>8.010</td>\n",
       "      <td>50000</td>\n",
       "      <td>0</td>\n",
       "      <td>0</td>\n",
       "      <td>1</td>\n",
       "      <td>0</td>\n",
       "    </tr>\n",
       "    <tr>\n",
       "      <th>72</th>\n",
       "      <td>2013</td>\n",
       "      <td>18.610</td>\n",
       "      <td>56001</td>\n",
       "      <td>0</td>\n",
       "      <td>0</td>\n",
       "      <td>0</td>\n",
       "      <td>0</td>\n",
       "    </tr>\n",
       "    <tr>\n",
       "      <th>15</th>\n",
       "      <td>2016</td>\n",
       "      <td>10.790</td>\n",
       "      <td>43000</td>\n",
       "      <td>1</td>\n",
       "      <td>0</td>\n",
       "      <td>0</td>\n",
       "      <td>0</td>\n",
       "    </tr>\n",
       "    <tr>\n",
       "      <th>168</th>\n",
       "      <td>2013</td>\n",
       "      <td>0.730</td>\n",
       "      <td>12000</td>\n",
       "      <td>0</td>\n",
       "      <td>1</td>\n",
       "      <td>0</td>\n",
       "      <td>0</td>\n",
       "    </tr>\n",
       "  </tbody>\n",
       "</table>\n",
       "<p>270 rows × 7 columns</p>\n",
       "</div>"
      ],
      "text/plain": [
       "     Year  Present_Price  Kms_Driven  Fuel_Type  Seller_Type  Transmission  \\\n",
       "204  2015          4.430       28282          0            0             0   \n",
       "249  2016          7.600       17000          0            0             0   \n",
       "277  2015         13.600       21780          0            0             0   \n",
       "194  2008          0.787       50000          0            1             0   \n",
       "244  2013          9.400       49000          1            0             0   \n",
       "..    ...            ...         ...        ...          ...           ...   \n",
       "75   2015          6.800       36000          0            0             0   \n",
       "22   2011          8.010       50000          0            0             1   \n",
       "72   2013         18.610       56001          0            0             0   \n",
       "15   2016         10.790       43000          1            0             0   \n",
       "168  2013          0.730       12000          0            1             0   \n",
       "\n",
       "     Owner  \n",
       "204      0  \n",
       "249      0  \n",
       "277      0  \n",
       "194      0  \n",
       "244      0  \n",
       "..     ...  \n",
       "75       0  \n",
       "22       0  \n",
       "72       0  \n",
       "15       0  \n",
       "168      0  \n",
       "\n",
       "[270 rows x 7 columns]"
      ]
     },
     "execution_count": 90,
     "metadata": {},
     "output_type": "execute_result"
    }
   ],
   "source": [
    "#training data\n",
    "X_train"
   ]
  },
  {
   "cell_type": "code",
   "execution_count": 91,
   "id": "b81802ab",
   "metadata": {},
   "outputs": [
    {
     "data": {
      "text/html": [
       "<div>\n",
       "<style scoped>\n",
       "    .dataframe tbody tr th:only-of-type {\n",
       "        vertical-align: middle;\n",
       "    }\n",
       "\n",
       "    .dataframe tbody tr th {\n",
       "        vertical-align: top;\n",
       "    }\n",
       "\n",
       "    .dataframe thead th {\n",
       "        text-align: right;\n",
       "    }\n",
       "</style>\n",
       "<table border=\"1\" class=\"dataframe\">\n",
       "  <thead>\n",
       "    <tr style=\"text-align: right;\">\n",
       "      <th></th>\n",
       "      <th>Year</th>\n",
       "      <th>Present_Price</th>\n",
       "      <th>Kms_Driven</th>\n",
       "      <th>Fuel_Type</th>\n",
       "      <th>Seller_Type</th>\n",
       "      <th>Transmission</th>\n",
       "      <th>Owner</th>\n",
       "    </tr>\n",
       "  </thead>\n",
       "  <tbody>\n",
       "    <tr>\n",
       "      <th>99</th>\n",
       "      <td>2010</td>\n",
       "      <td>20.450</td>\n",
       "      <td>50024</td>\n",
       "      <td>1</td>\n",
       "      <td>0</td>\n",
       "      <td>0</td>\n",
       "      <td>0</td>\n",
       "    </tr>\n",
       "    <tr>\n",
       "      <th>161</th>\n",
       "      <td>2014</td>\n",
       "      <td>0.826</td>\n",
       "      <td>23000</td>\n",
       "      <td>0</td>\n",
       "      <td>1</td>\n",
       "      <td>0</td>\n",
       "      <td>0</td>\n",
       "    </tr>\n",
       "    <tr>\n",
       "      <th>89</th>\n",
       "      <td>2014</td>\n",
       "      <td>6.760</td>\n",
       "      <td>40000</td>\n",
       "      <td>0</td>\n",
       "      <td>0</td>\n",
       "      <td>0</td>\n",
       "      <td>0</td>\n",
       "    </tr>\n",
       "    <tr>\n",
       "      <th>30</th>\n",
       "      <td>2012</td>\n",
       "      <td>5.980</td>\n",
       "      <td>51439</td>\n",
       "      <td>1</td>\n",
       "      <td>0</td>\n",
       "      <td>0</td>\n",
       "      <td>0</td>\n",
       "    </tr>\n",
       "    <tr>\n",
       "      <th>232</th>\n",
       "      <td>2015</td>\n",
       "      <td>14.790</td>\n",
       "      <td>12900</td>\n",
       "      <td>0</td>\n",
       "      <td>0</td>\n",
       "      <td>1</td>\n",
       "      <td>0</td>\n",
       "    </tr>\n",
       "    <tr>\n",
       "      <th>290</th>\n",
       "      <td>2014</td>\n",
       "      <td>6.400</td>\n",
       "      <td>19000</td>\n",
       "      <td>0</td>\n",
       "      <td>0</td>\n",
       "      <td>0</td>\n",
       "      <td>0</td>\n",
       "    </tr>\n",
       "    <tr>\n",
       "      <th>35</th>\n",
       "      <td>2011</td>\n",
       "      <td>7.740</td>\n",
       "      <td>49998</td>\n",
       "      <td>2</td>\n",
       "      <td>0</td>\n",
       "      <td>0</td>\n",
       "      <td>0</td>\n",
       "    </tr>\n",
       "    <tr>\n",
       "      <th>7</th>\n",
       "      <td>2015</td>\n",
       "      <td>8.610</td>\n",
       "      <td>33429</td>\n",
       "      <td>1</td>\n",
       "      <td>0</td>\n",
       "      <td>0</td>\n",
       "      <td>0</td>\n",
       "    </tr>\n",
       "    <tr>\n",
       "      <th>183</th>\n",
       "      <td>2013</td>\n",
       "      <td>0.470</td>\n",
       "      <td>21000</td>\n",
       "      <td>0</td>\n",
       "      <td>1</td>\n",
       "      <td>0</td>\n",
       "      <td>0</td>\n",
       "    </tr>\n",
       "    <tr>\n",
       "      <th>13</th>\n",
       "      <td>2015</td>\n",
       "      <td>7.710</td>\n",
       "      <td>26000</td>\n",
       "      <td>0</td>\n",
       "      <td>0</td>\n",
       "      <td>0</td>\n",
       "      <td>0</td>\n",
       "    </tr>\n",
       "    <tr>\n",
       "      <th>269</th>\n",
       "      <td>2015</td>\n",
       "      <td>10.000</td>\n",
       "      <td>18828</td>\n",
       "      <td>0</td>\n",
       "      <td>0</td>\n",
       "      <td>0</td>\n",
       "      <td>0</td>\n",
       "    </tr>\n",
       "    <tr>\n",
       "      <th>65</th>\n",
       "      <td>2014</td>\n",
       "      <td>6.950</td>\n",
       "      <td>45000</td>\n",
       "      <td>1</td>\n",
       "      <td>0</td>\n",
       "      <td>0</td>\n",
       "      <td>0</td>\n",
       "    </tr>\n",
       "    <tr>\n",
       "      <th>178</th>\n",
       "      <td>2014</td>\n",
       "      <td>0.520</td>\n",
       "      <td>19000</td>\n",
       "      <td>0</td>\n",
       "      <td>1</td>\n",
       "      <td>1</td>\n",
       "      <td>0</td>\n",
       "    </tr>\n",
       "    <tr>\n",
       "      <th>258</th>\n",
       "      <td>2015</td>\n",
       "      <td>13.600</td>\n",
       "      <td>25000</td>\n",
       "      <td>0</td>\n",
       "      <td>0</td>\n",
       "      <td>0</td>\n",
       "      <td>0</td>\n",
       "    </tr>\n",
       "    <tr>\n",
       "      <th>227</th>\n",
       "      <td>2011</td>\n",
       "      <td>4.430</td>\n",
       "      <td>57000</td>\n",
       "      <td>0</td>\n",
       "      <td>0</td>\n",
       "      <td>0</td>\n",
       "      <td>0</td>\n",
       "    </tr>\n",
       "    <tr>\n",
       "      <th>133</th>\n",
       "      <td>2016</td>\n",
       "      <td>0.950</td>\n",
       "      <td>500</td>\n",
       "      <td>0</td>\n",
       "      <td>1</td>\n",
       "      <td>0</td>\n",
       "      <td>0</td>\n",
       "    </tr>\n",
       "    <tr>\n",
       "      <th>130</th>\n",
       "      <td>2017</td>\n",
       "      <td>0.870</td>\n",
       "      <td>11000</td>\n",
       "      <td>0</td>\n",
       "      <td>1</td>\n",
       "      <td>0</td>\n",
       "      <td>0</td>\n",
       "    </tr>\n",
       "    <tr>\n",
       "      <th>156</th>\n",
       "      <td>2017</td>\n",
       "      <td>0.520</td>\n",
       "      <td>15000</td>\n",
       "      <td>0</td>\n",
       "      <td>1</td>\n",
       "      <td>0</td>\n",
       "      <td>0</td>\n",
       "    </tr>\n",
       "    <tr>\n",
       "      <th>237</th>\n",
       "      <td>2015</td>\n",
       "      <td>13.600</td>\n",
       "      <td>68000</td>\n",
       "      <td>1</td>\n",
       "      <td>0</td>\n",
       "      <td>0</td>\n",
       "      <td>0</td>\n",
       "    </tr>\n",
       "    <tr>\n",
       "      <th>262</th>\n",
       "      <td>2015</td>\n",
       "      <td>5.800</td>\n",
       "      <td>40023</td>\n",
       "      <td>0</td>\n",
       "      <td>0</td>\n",
       "      <td>0</td>\n",
       "      <td>0</td>\n",
       "    </tr>\n",
       "    <tr>\n",
       "      <th>112</th>\n",
       "      <td>2014</td>\n",
       "      <td>2.400</td>\n",
       "      <td>7000</td>\n",
       "      <td>0</td>\n",
       "      <td>1</td>\n",
       "      <td>0</td>\n",
       "      <td>0</td>\n",
       "    </tr>\n",
       "    <tr>\n",
       "      <th>282</th>\n",
       "      <td>2014</td>\n",
       "      <td>14.000</td>\n",
       "      <td>63000</td>\n",
       "      <td>1</td>\n",
       "      <td>0</td>\n",
       "      <td>0</td>\n",
       "      <td>0</td>\n",
       "    </tr>\n",
       "    <tr>\n",
       "      <th>164</th>\n",
       "      <td>2016</td>\n",
       "      <td>0.540</td>\n",
       "      <td>14000</td>\n",
       "      <td>0</td>\n",
       "      <td>1</td>\n",
       "      <td>0</td>\n",
       "      <td>0</td>\n",
       "    </tr>\n",
       "    <tr>\n",
       "      <th>275</th>\n",
       "      <td>2016</td>\n",
       "      <td>13.600</td>\n",
       "      <td>30753</td>\n",
       "      <td>0</td>\n",
       "      <td>0</td>\n",
       "      <td>1</td>\n",
       "      <td>0</td>\n",
       "    </tr>\n",
       "    <tr>\n",
       "      <th>154</th>\n",
       "      <td>2014</td>\n",
       "      <td>0.880</td>\n",
       "      <td>8000</td>\n",
       "      <td>0</td>\n",
       "      <td>1</td>\n",
       "      <td>0</td>\n",
       "      <td>0</td>\n",
       "    </tr>\n",
       "    <tr>\n",
       "      <th>29</th>\n",
       "      <td>2015</td>\n",
       "      <td>10.380</td>\n",
       "      <td>45000</td>\n",
       "      <td>1</td>\n",
       "      <td>0</td>\n",
       "      <td>0</td>\n",
       "      <td>0</td>\n",
       "    </tr>\n",
       "    <tr>\n",
       "      <th>141</th>\n",
       "      <td>2016</td>\n",
       "      <td>0.800</td>\n",
       "      <td>20000</td>\n",
       "      <td>0</td>\n",
       "      <td>1</td>\n",
       "      <td>0</td>\n",
       "      <td>0</td>\n",
       "    </tr>\n",
       "    <tr>\n",
       "      <th>192</th>\n",
       "      <td>2007</td>\n",
       "      <td>0.750</td>\n",
       "      <td>49000</td>\n",
       "      <td>0</td>\n",
       "      <td>1</td>\n",
       "      <td>0</td>\n",
       "      <td>1</td>\n",
       "    </tr>\n",
       "    <tr>\n",
       "      <th>216</th>\n",
       "      <td>2016</td>\n",
       "      <td>4.430</td>\n",
       "      <td>12500</td>\n",
       "      <td>0</td>\n",
       "      <td>0</td>\n",
       "      <td>0</td>\n",
       "      <td>0</td>\n",
       "    </tr>\n",
       "    <tr>\n",
       "      <th>3</th>\n",
       "      <td>2011</td>\n",
       "      <td>4.150</td>\n",
       "      <td>5200</td>\n",
       "      <td>0</td>\n",
       "      <td>0</td>\n",
       "      <td>0</td>\n",
       "      <td>0</td>\n",
       "    </tr>\n",
       "    <tr>\n",
       "      <th>159</th>\n",
       "      <td>2017</td>\n",
       "      <td>0.510</td>\n",
       "      <td>4000</td>\n",
       "      <td>0</td>\n",
       "      <td>1</td>\n",
       "      <td>1</td>\n",
       "      <td>0</td>\n",
       "    </tr>\n",
       "  </tbody>\n",
       "</table>\n",
       "</div>"
      ],
      "text/plain": [
       "     Year  Present_Price  Kms_Driven  Fuel_Type  Seller_Type  Transmission  \\\n",
       "99   2010         20.450       50024          1            0             0   \n",
       "161  2014          0.826       23000          0            1             0   \n",
       "89   2014          6.760       40000          0            0             0   \n",
       "30   2012          5.980       51439          1            0             0   \n",
       "232  2015         14.790       12900          0            0             1   \n",
       "290  2014          6.400       19000          0            0             0   \n",
       "35   2011          7.740       49998          2            0             0   \n",
       "7    2015          8.610       33429          1            0             0   \n",
       "183  2013          0.470       21000          0            1             0   \n",
       "13   2015          7.710       26000          0            0             0   \n",
       "269  2015         10.000       18828          0            0             0   \n",
       "65   2014          6.950       45000          1            0             0   \n",
       "178  2014          0.520       19000          0            1             1   \n",
       "258  2015         13.600       25000          0            0             0   \n",
       "227  2011          4.430       57000          0            0             0   \n",
       "133  2016          0.950         500          0            1             0   \n",
       "130  2017          0.870       11000          0            1             0   \n",
       "156  2017          0.520       15000          0            1             0   \n",
       "237  2015         13.600       68000          1            0             0   \n",
       "262  2015          5.800       40023          0            0             0   \n",
       "112  2014          2.400        7000          0            1             0   \n",
       "282  2014         14.000       63000          1            0             0   \n",
       "164  2016          0.540       14000          0            1             0   \n",
       "275  2016         13.600       30753          0            0             1   \n",
       "154  2014          0.880        8000          0            1             0   \n",
       "29   2015         10.380       45000          1            0             0   \n",
       "141  2016          0.800       20000          0            1             0   \n",
       "192  2007          0.750       49000          0            1             0   \n",
       "216  2016          4.430       12500          0            0             0   \n",
       "3    2011          4.150        5200          0            0             0   \n",
       "159  2017          0.510        4000          0            1             1   \n",
       "\n",
       "     Owner  \n",
       "99       0  \n",
       "161      0  \n",
       "89       0  \n",
       "30       0  \n",
       "232      0  \n",
       "290      0  \n",
       "35       0  \n",
       "7        0  \n",
       "183      0  \n",
       "13       0  \n",
       "269      0  \n",
       "65       0  \n",
       "178      0  \n",
       "258      0  \n",
       "227      0  \n",
       "133      0  \n",
       "130      0  \n",
       "156      0  \n",
       "237      0  \n",
       "262      0  \n",
       "112      0  \n",
       "282      0  \n",
       "164      0  \n",
       "275      0  \n",
       "154      0  \n",
       "29       0  \n",
       "141      0  \n",
       "192      1  \n",
       "216      0  \n",
       "3        0  \n",
       "159      0  "
      ]
     },
     "execution_count": 91,
     "metadata": {},
     "output_type": "execute_result"
    }
   ],
   "source": [
    "#test data \n",
    "X_test"
   ]
  },
  {
   "cell_type": "code",
   "execution_count": 92,
   "id": "a218dc7e",
   "metadata": {},
   "outputs": [
    {
     "data": {
      "text/plain": [
       "204    2.75\n",
       "249    5.25\n",
       "277    9.70\n",
       "194    0.20\n",
       "244    5.95\n",
       "       ... \n",
       "75     3.95\n",
       "22     4.40\n",
       "72     7.45\n",
       "15     7.75\n",
       "168    0.42\n",
       "Name: Selling_Price, Length: 270, dtype: float64"
      ]
     },
     "execution_count": 92,
     "metadata": {},
     "output_type": "execute_result"
    }
   ],
   "source": [
    "y_train"
   ]
  },
  {
   "cell_type": "code",
   "execution_count": 93,
   "id": "39405d63",
   "metadata": {},
   "outputs": [
    {
     "data": {
      "text/plain": [
       "99      9.65\n",
       "161     0.45\n",
       "89      4.75\n",
       "30      3.10\n",
       "232    11.45\n",
       "290     4.50\n",
       "35      2.95\n",
       "7       6.50\n",
       "183     0.27\n",
       "13      6.10\n",
       "269     6.70\n",
       "65      4.75\n",
       "178     0.35\n",
       "258     8.40\n",
       "227     2.55\n",
       "133     0.72\n",
       "130     0.75\n",
       "156     0.48\n",
       "237    11.25\n",
       "262     4.00\n",
       "112     1.15\n",
       "282     8.25\n",
       "164     0.45\n",
       "275    10.90\n",
       "154     0.50\n",
       "29      7.45\n",
       "141     0.60\n",
       "192     0.20\n",
       "216     2.90\n",
       "3       2.85\n",
       "159     0.45\n",
       "Name: Selling_Price, dtype: float64"
      ]
     },
     "execution_count": 93,
     "metadata": {},
     "output_type": "execute_result"
    }
   ],
   "source": [
    "y_test"
   ]
  },
  {
   "cell_type": "markdown",
   "id": "56c265e8",
   "metadata": {},
   "source": [
    "MODEL TRAINING"
   ]
  },
  {
   "cell_type": "code",
   "execution_count": 94,
   "id": "37ce470e",
   "metadata": {},
   "outputs": [],
   "source": [
    "regressor=LinearRegression()"
   ]
  },
  {
   "cell_type": "code",
   "execution_count": 95,
   "id": "c5e6ed16",
   "metadata": {},
   "outputs": [
    {
     "data": {
      "text/html": [
       "<style>#sk-container-id-1 {color: black;}#sk-container-id-1 pre{padding: 0;}#sk-container-id-1 div.sk-toggleable {background-color: white;}#sk-container-id-1 label.sk-toggleable__label {cursor: pointer;display: block;width: 100%;margin-bottom: 0;padding: 0.3em;box-sizing: border-box;text-align: center;}#sk-container-id-1 label.sk-toggleable__label-arrow:before {content: \"▸\";float: left;margin-right: 0.25em;color: #696969;}#sk-container-id-1 label.sk-toggleable__label-arrow:hover:before {color: black;}#sk-container-id-1 div.sk-estimator:hover label.sk-toggleable__label-arrow:before {color: black;}#sk-container-id-1 div.sk-toggleable__content {max-height: 0;max-width: 0;overflow: hidden;text-align: left;background-color: #f0f8ff;}#sk-container-id-1 div.sk-toggleable__content pre {margin: 0.2em;color: black;border-radius: 0.25em;background-color: #f0f8ff;}#sk-container-id-1 input.sk-toggleable__control:checked~div.sk-toggleable__content {max-height: 200px;max-width: 100%;overflow: auto;}#sk-container-id-1 input.sk-toggleable__control:checked~label.sk-toggleable__label-arrow:before {content: \"▾\";}#sk-container-id-1 div.sk-estimator input.sk-toggleable__control:checked~label.sk-toggleable__label {background-color: #d4ebff;}#sk-container-id-1 div.sk-label input.sk-toggleable__control:checked~label.sk-toggleable__label {background-color: #d4ebff;}#sk-container-id-1 input.sk-hidden--visually {border: 0;clip: rect(1px 1px 1px 1px);clip: rect(1px, 1px, 1px, 1px);height: 1px;margin: -1px;overflow: hidden;padding: 0;position: absolute;width: 1px;}#sk-container-id-1 div.sk-estimator {font-family: monospace;background-color: #f0f8ff;border: 1px dotted black;border-radius: 0.25em;box-sizing: border-box;margin-bottom: 0.5em;}#sk-container-id-1 div.sk-estimator:hover {background-color: #d4ebff;}#sk-container-id-1 div.sk-parallel-item::after {content: \"\";width: 100%;border-bottom: 1px solid gray;flex-grow: 1;}#sk-container-id-1 div.sk-label:hover label.sk-toggleable__label {background-color: #d4ebff;}#sk-container-id-1 div.sk-serial::before {content: \"\";position: absolute;border-left: 1px solid gray;box-sizing: border-box;top: 0;bottom: 0;left: 50%;z-index: 0;}#sk-container-id-1 div.sk-serial {display: flex;flex-direction: column;align-items: center;background-color: white;padding-right: 0.2em;padding-left: 0.2em;position: relative;}#sk-container-id-1 div.sk-item {position: relative;z-index: 1;}#sk-container-id-1 div.sk-parallel {display: flex;align-items: stretch;justify-content: center;background-color: white;position: relative;}#sk-container-id-1 div.sk-item::before, #sk-container-id-1 div.sk-parallel-item::before {content: \"\";position: absolute;border-left: 1px solid gray;box-sizing: border-box;top: 0;bottom: 0;left: 50%;z-index: -1;}#sk-container-id-1 div.sk-parallel-item {display: flex;flex-direction: column;z-index: 1;position: relative;background-color: white;}#sk-container-id-1 div.sk-parallel-item:first-child::after {align-self: flex-end;width: 50%;}#sk-container-id-1 div.sk-parallel-item:last-child::after {align-self: flex-start;width: 50%;}#sk-container-id-1 div.sk-parallel-item:only-child::after {width: 0;}#sk-container-id-1 div.sk-dashed-wrapped {border: 1px dashed gray;margin: 0 0.4em 0.5em 0.4em;box-sizing: border-box;padding-bottom: 0.4em;background-color: white;}#sk-container-id-1 div.sk-label label {font-family: monospace;font-weight: bold;display: inline-block;line-height: 1.2em;}#sk-container-id-1 div.sk-label-container {text-align: center;}#sk-container-id-1 div.sk-container {/* jupyter's `normalize.less` sets `[hidden] { display: none; }` but bootstrap.min.css set `[hidden] { display: none !important; }` so we also need the `!important` here to be able to override the default hidden behavior on the sphinx rendered scikit-learn.org. See: https://github.com/scikit-learn/scikit-learn/issues/21755 */display: inline-block !important;position: relative;}#sk-container-id-1 div.sk-text-repr-fallback {display: none;}</style><div id=\"sk-container-id-1\" class=\"sk-top-container\"><div class=\"sk-text-repr-fallback\"><pre>LinearRegression()</pre><b>In a Jupyter environment, please rerun this cell to show the HTML representation or trust the notebook. <br />On GitHub, the HTML representation is unable to render, please try loading this page with nbviewer.org.</b></div><div class=\"sk-container\" hidden><div class=\"sk-item\"><div class=\"sk-estimator sk-toggleable\"><input class=\"sk-toggleable__control sk-hidden--visually\" id=\"sk-estimator-id-1\" type=\"checkbox\" checked><label for=\"sk-estimator-id-1\" class=\"sk-toggleable__label sk-toggleable__label-arrow\">LinearRegression</label><div class=\"sk-toggleable__content\"><pre>LinearRegression()</pre></div></div></div></div></div>"
      ],
      "text/plain": [
       "LinearRegression()"
      ]
     },
     "execution_count": 95,
     "metadata": {},
     "output_type": "execute_result"
    }
   ],
   "source": [
    "regressor.fit(X_train,y_train)"
   ]
  },
  {
   "cell_type": "code",
   "execution_count": 97,
   "id": "c901c099",
   "metadata": {},
   "outputs": [],
   "source": [
    "##model evaluation, prediction on training data\n"
   ]
  },
  {
   "cell_type": "code",
   "execution_count": 98,
   "id": "29236a20",
   "metadata": {},
   "outputs": [],
   "source": [
    "training_data_prediction = regressor.predict(X_train)"
   ]
  },
  {
   "cell_type": "code",
   "execution_count": 100,
   "id": "958655a7",
   "metadata": {},
   "outputs": [
    {
     "data": {
      "text/plain": [
       "array([ 3.73088505e+00,  5.60702081e+00,  7.79779356e+00, -1.88374756e+00,\n",
       "        6.71614572e+00,  8.14343296e+00,  5.84067525e+00,  6.17919527e+00,\n",
       "        6.15863751e+00,  1.59459051e+01,  2.15385926e+00,  1.11618544e+00,\n",
       "       -4.05463414e-01,  6.69051516e+00,  6.81961414e+00,  1.02957394e+00,\n",
       "        6.74306974e+00,  1.43864300e+01,  3.00001893e+00,  7.95149024e+00,\n",
       "       -8.38569413e-01,  9.02067892e+00,  1.21210550e+00,  2.20040027e+00,\n",
       "       -8.23744275e-01,  7.52651502e-01,  1.00142469e+01, -4.08950275e-01,\n",
       "       -2.40418357e+00,  9.99845989e+00,  6.81867179e+00,  1.09249928e+00,\n",
       "        4.36158792e+00,  9.20660480e-02,  3.48993776e+00,  2.78147834e+00,\n",
       "        1.50401026e+00,  4.65736158e-01,  1.68679810e+00,  1.18722506e+00,\n",
       "        4.32936153e+00,  6.09932798e+00,  9.51639926e-01,  7.52875828e-01,\n",
       "        6.05967594e+00,  3.49453005e+00,  2.40969246e+00,  7.52230513e+00,\n",
       "        4.63113915e+00,  4.44239322e+00,  4.22460259e+00,  2.71077171e+00,\n",
       "        4.46881874e+00,  1.76156730e+00,  2.86100050e-01,  3.95181249e+00,\n",
       "        1.36371845e+00,  4.63046605e+00,  1.44343122e+00,  7.27550233e+00,\n",
       "        7.26488044e+00,  6.54659602e+00,  2.36324853e+00,  2.19217418e+01,\n",
       "        2.16319930e+00,  5.66076848e+00,  2.80906060e+00,  7.49802869e+00,\n",
       "        5.62886682e+00,  9.98314981e+00,  2.06830269e+00,  2.39461488e+00,\n",
       "        1.25697170e+00,  2.48624712e+00,  9.87503255e+00,  1.99829124e+00,\n",
       "       -5.95850149e-01,  5.42977049e+00,  1.14801568e+01,  7.23519617e-02,\n",
       "        1.16970906e+00,  1.59303454e+00,  5.41364480e+00,  1.41557179e+00,\n",
       "        7.74504567e+00,  1.84083793e+01,  2.58142127e+00,  2.07186281e-01,\n",
       "        1.89736367e+00,  9.26780904e+00,  3.99021820e+00,  7.07156998e+00,\n",
       "        1.68502818e+01,  1.02685111e+01,  3.68136662e+00,  1.50064476e+00,\n",
       "        4.31232923e+00, -4.34880981e-01,  1.71285667e+00,  8.27991453e+00,\n",
       "        1.14683904e+00,  7.50346268e+00, -2.04666325e+00,  8.30146254e-01,\n",
       "        7.26854735e+00,  8.02021894e+00,  7.36905488e+00, -3.79414332e+00,\n",
       "        3.75525897e+00,  8.25695012e+00,  3.51472306e+00,  2.53338755e+00,\n",
       "        4.16232248e+00, -3.24088512e+00,  5.18615085e+00,  1.85821266e+00,\n",
       "        3.49278787e+00,  7.72803450e+00, -2.72911676e-02,  1.85585877e+00,\n",
       "        1.61750191e+00,  1.86723050e+00,  3.44019213e+00, -2.61256990e+00,\n",
       "        2.83571040e-01,  6.47077845e+00,  6.81795378e+00,  1.27856366e+00,\n",
       "        1.98246558e+00,  7.77746593e+00,  3.99027153e+00,  7.11781878e-01,\n",
       "        7.91403394e+00,  6.23267855e+00,  1.28756708e+00, -1.96729056e+00,\n",
       "        5.28552207e+00,  6.04550694e+00,  5.16190178e+00,  4.22971237e+00,\n",
       "        9.51891054e-01,  7.35166727e+00,  4.01818932e+00, -1.04710559e+00,\n",
       "        1.09156146e+01,  4.39667870e+00,  2.86984918e+00,  1.91986725e+00,\n",
       "        4.96862623e+00,  4.77936928e+00,  4.25092177e+00,  1.71053421e+01,\n",
       "       -1.07199613e+00,  1.26451025e+00,  5.21327300e+00,  2.12348337e+00,\n",
       "        5.99165891e+00,  3.40807255e+00,  4.80827934e+00,  3.38918116e+00,\n",
       "        5.13795684e-01,  4.44055098e+00,  2.00903744e+01,  3.83901354e+00,\n",
       "        4.53066612e+00,  2.19632384e+00,  2.97882688e+00,  1.63013254e-01,\n",
       "        7.45166142e+00, -9.64114771e-01,  2.07084616e+01,  1.48302952e-01,\n",
       "        7.67297383e+00,  1.97138512e+00,  1.58318918e+00,  8.59464322e+00,\n",
       "        2.03394215e+01,  3.12384360e+00,  4.48104068e+00,  5.12059119e+00,\n",
       "        4.44820127e+00,  6.32711743e+00,  6.14313782e+00,  1.63379307e+00,\n",
       "        4.86593391e-01,  7.15580082e+00,  8.19411548e+00,  2.20656869e+00,\n",
       "       -3.00310326e+00,  4.28862263e+00,  4.26053193e+00,  5.13714273e+00,\n",
       "       -3.42194582e-01,  6.40060227e+00,  4.40377318e+00,  8.20122236e+00,\n",
       "        8.08394337e-01,  1.09158807e+01,  5.67433085e+00, -9.84515513e-01,\n",
       "        6.41897928e+00,  5.08269665e+00,  6.91554730e+00,  4.93883063e+00,\n",
       "        5.77578402e+00,  2.12723538e+00,  2.52675517e+00,  4.89440672e+00,\n",
       "        3.15266181e+00, -1.52384175e+00,  4.17949082e+01,  5.81924561e+00,\n",
       "        5.14055580e+00,  3.92237207e-01,  9.05432721e+00,  6.56459921e+00,\n",
       "        7.18219701e+00,  1.66366108e+00,  7.11473745e+00,  9.07935482e+00,\n",
       "        4.46753893e+00,  3.36303450e+00,  6.35490979e+00,  6.55934903e+00,\n",
       "        1.66016819e+01,  9.39027813e+00,  6.26564147e+00, -1.43439660e-01,\n",
       "        2.55568656e+00,  2.97505284e+00,  5.85941753e+00,  5.06592497e+00,\n",
       "        9.32375818e-01,  8.13064209e+00,  5.75158168e+00,  7.71554069e+00,\n",
       "        2.18559206e+00,  1.67445579e+01,  4.87739901e+00,  1.46396860e+01,\n",
       "        1.05280516e+01,  2.12054166e+00, -5.25492431e-02,  9.93653139e+00,\n",
       "       -3.52247643e+00,  3.49678260e+00,  2.73531683e+00,  3.41170538e+00,\n",
       "        7.39379673e+00,  3.96888732e+00,  1.84083793e+01,  8.15712083e+00,\n",
       "        2.54637150e+00,  8.78314015e-01,  6.36747996e-01,  5.77461943e-01,\n",
       "        4.35596477e-01,  5.38888735e+00,  6.47934817e+00, -3.23943162e-01,\n",
       "        3.10622023e+00,  9.01067339e+00,  8.42951569e+00,  8.19695422e-02,\n",
       "        5.65761124e+00,  4.71872253e+00,  5.02500936e+00,  8.94663115e+00,\n",
       "        8.59464322e+00,  3.94153678e-01])"
      ]
     },
     "execution_count": 100,
     "metadata": {},
     "output_type": "execute_result"
    }
   ],
   "source": [
    "training_data_prediction"
   ]
  },
  {
   "cell_type": "code",
   "execution_count": 101,
   "id": "b1133c5b",
   "metadata": {},
   "outputs": [
    {
     "data": {
      "text/plain": [
       "204    2.75\n",
       "249    5.25\n",
       "277    9.70\n",
       "194    0.20\n",
       "244    5.95\n",
       "       ... \n",
       "75     3.95\n",
       "22     4.40\n",
       "72     7.45\n",
       "15     7.75\n",
       "168    0.42\n",
       "Name: Selling_Price, Length: 270, dtype: float64"
      ]
     },
     "execution_count": 101,
     "metadata": {},
     "output_type": "execute_result"
    }
   ],
   "source": [
    "y_train"
   ]
  },
  {
   "cell_type": "code",
   "execution_count": 99,
   "id": "1e01a4b0",
   "metadata": {},
   "outputs": [
    {
     "name": "stdout",
     "output_type": "stream",
     "text": [
      "0.8799451660493705\n"
     ]
    }
   ],
   "source": [
    "#R squared Error\n",
    "error_score = metrics.r2_score(y_train,training_data_prediction)\n",
    "print(error_score)"
   ]
  },
  {
   "cell_type": "code",
   "execution_count": 102,
   "id": "5d618800",
   "metadata": {},
   "outputs": [],
   "source": [
    "#Visualize the actual and predicted prices"
   ]
  },
  {
   "cell_type": "code",
   "execution_count": 104,
   "id": "68ed069f",
   "metadata": {},
   "outputs": [
    {
     "data": {
      "text/plain": [
       "<seaborn.axisgrid.JointGrid at 0x1ab4bd8be10>"
      ]
     },
     "execution_count": 104,
     "metadata": {},
     "output_type": "execute_result"
    },
    {
     "data": {
      "image/png": "[encoded data removed]",
      "text/plain": [
       "<Figure size 600x600 with 3 Axes>"
      ]
     },
     "metadata": {},
     "output_type": "display_data"
    }
   ],
   "source": [
    "sns.jointplot(x=y_train,y=training_data_prediction)"
   ]
  },
  {
   "cell_type": "code",
   "execution_count": 105,
   "id": "a44376ca",
   "metadata": {},
   "outputs": [],
   "source": [
    "#now prediction on test data\n",
    "test_data_prediction=regressor.predict(X_test)"
   ]
  },
  {
   "cell_type": "code",
   "execution_count": 106,
   "id": "097c18f9",
   "metadata": {},
   "outputs": [
    {
     "data": {
      "text/plain": [
       "array([10.32892855,  0.77165673,  4.26482324,  4.78985002,  9.88701568,\n",
       "        4.24823193,  6.92536953,  7.29321065,  0.21950514,  5.18527582,\n",
       "        6.23823964,  6.07761019,  2.1716932 ,  7.77611973,  1.89987958,\n",
       "        1.79635895,  2.10001123,  1.91953211,  9.24977006,  4.25291486,\n",
       "        1.569912  ,  9.04949049,  1.52561157,  9.65418587,  0.89631315,\n",
       "        7.99187626,  1.59929505, -3.17680912,  4.24653988,  2.1257015 ,\n",
       "        3.49654935])"
      ]
     },
     "execution_count": 106,
     "metadata": {},
     "output_type": "execute_result"
    }
   ],
   "source": [
    "test_data_prediction"
   ]
  },
  {
   "cell_type": "code",
   "execution_count": 108,
   "id": "d667d997",
   "metadata": {},
   "outputs": [
    {
     "data": {
      "text/plain": [
       "99      9.65\n",
       "161     0.45\n",
       "89      4.75\n",
       "30      3.10\n",
       "232    11.45\n",
       "290     4.50\n",
       "35      2.95\n",
       "7       6.50\n",
       "183     0.27\n",
       "13      6.10\n",
       "269     6.70\n",
       "65      4.75\n",
       "178     0.35\n",
       "258     8.40\n",
       "227     2.55\n",
       "133     0.72\n",
       "130     0.75\n",
       "156     0.48\n",
       "237    11.25\n",
       "262     4.00\n",
       "112     1.15\n",
       "282     8.25\n",
       "164     0.45\n",
       "275    10.90\n",
       "154     0.50\n",
       "29      7.45\n",
       "141     0.60\n",
       "192     0.20\n",
       "216     2.90\n",
       "3       2.85\n",
       "159     0.45\n",
       "Name: Selling_Price, dtype: float64"
      ]
     },
     "execution_count": 108,
     "metadata": {},
     "output_type": "execute_result"
    }
   ],
   "source": [
    "y_test"
   ]
  },
  {
   "cell_type": "code",
   "execution_count": 109,
   "id": "1cbc2c22",
   "metadata": {},
   "outputs": [
    {
     "name": "stdout",
     "output_type": "stream",
     "text": [
      "0.836576671502687\n"
     ]
    }
   ],
   "source": [
    "#R squared Error\n",
    "error_score = metrics.r2_score(y_test,test_data_prediction)\n",
    "print(error_score)"
   ]
  },
  {
   "cell_type": "code",
   "execution_count": 110,
   "id": "920be1cf",
   "metadata": {},
   "outputs": [
    {
     "data": {
      "text/plain": [
       "<seaborn.axisgrid.JointGrid at 0x1ab4bfed810>"
      ]
     },
     "execution_count": 110,
     "metadata": {},
     "output_type": "execute_result"
    },
    {
     "data": {
      "image/png": "[encoded data removed]",
      "text/plain": [
       "<Figure size 600x600 with 3 Axes>"
      ]
     },
     "metadata": {},
     "output_type": "display_data"
    }
   ],
   "source": [
    "sns.jointplot(x=y_test,y=test_data_prediction)"
   ]
  },
  {
   "cell_type": "code",
   "execution_count": 111,
   "id": "0d96a37a",
   "metadata": {},
   "outputs": [],
   "source": [
    "##LASSO REGRESSION"
   ]
  },
  {
   "cell_type": "code",
   "execution_count": 114,
   "id": "6a553421",
   "metadata": {},
   "outputs": [
    {
     "data": {
      "application/javascript": [
       "\n",
       "        if (window._pyforest_update_imports_cell) { window._pyforest_update_imports_cell('from sklearn.linear_model import Lasso'); }\n",
       "    "
      ],
      "text/plain": [
       "<IPython.core.display.Javascript object>"
      ]
     },
     "metadata": {},
     "output_type": "display_data"
    },
    {
     "data": {
      "text/html": [
       "<style>#sk-container-id-2 {color: black;}#sk-container-id-2 pre{padding: 0;}#sk-container-id-2 div.sk-toggleable {background-color: white;}#sk-container-id-2 label.sk-toggleable__label {cursor: pointer;display: block;width: 100%;margin-bottom: 0;padding: 0.3em;box-sizing: border-box;text-align: center;}#sk-container-id-2 label.sk-toggleable__label-arrow:before {content: \"▸\";float: left;margin-right: 0.25em;color: #696969;}#sk-container-id-2 label.sk-toggleable__label-arrow:hover:before {color: black;}#sk-container-id-2 div.sk-estimator:hover label.sk-toggleable__label-arrow:before {color: black;}#sk-container-id-2 div.sk-toggleable__content {max-height: 0;max-width: 0;overflow: hidden;text-align: left;background-color: #f0f8ff;}#sk-container-id-2 div.sk-toggleable__content pre {margin: 0.2em;color: black;border-radius: 0.25em;background-color: #f0f8ff;}#sk-container-id-2 input.sk-toggleable__control:checked~div.sk-toggleable__content {max-height: 200px;max-width: 100%;overflow: auto;}#sk-container-id-2 input.sk-toggleable__control:checked~label.sk-toggleable__label-arrow:before {content: \"▾\";}#sk-container-id-2 div.sk-estimator input.sk-toggleable__control:checked~label.sk-toggleable__label {background-color: #d4ebff;}#sk-container-id-2 div.sk-label input.sk-toggleable__control:checked~label.sk-toggleable__label {background-color: #d4ebff;}#sk-container-id-2 input.sk-hidden--visually {border: 0;clip: rect(1px 1px 1px 1px);clip: rect(1px, 1px, 1px, 1px);height: 1px;margin: -1px;overflow: hidden;padding: 0;position: absolute;width: 1px;}#sk-container-id-2 div.sk-estimator {font-family: monospace;background-color: #f0f8ff;border: 1px dotted black;border-radius: 0.25em;box-sizing: border-box;margin-bottom: 0.5em;}#sk-container-id-2 div.sk-estimator:hover {background-color: #d4ebff;}#sk-container-id-2 div.sk-parallel-item::after {content: \"\";width: 100%;border-bottom: 1px solid gray;flex-grow: 1;}#sk-container-id-2 div.sk-label:hover label.sk-toggleable__label {background-color: #d4ebff;}#sk-container-id-2 div.sk-serial::before {content: \"\";position: absolute;border-left: 1px solid gray;box-sizing: border-box;top: 0;bottom: 0;left: 50%;z-index: 0;}#sk-container-id-2 div.sk-serial {display: flex;flex-direction: column;align-items: center;background-color: white;padding-right: 0.2em;padding-left: 0.2em;position: relative;}#sk-container-id-2 div.sk-item {position: relative;z-index: 1;}#sk-container-id-2 div.sk-parallel {display: flex;align-items: stretch;justify-content: center;background-color: white;position: relative;}#sk-container-id-2 div.sk-item::before, #sk-container-id-2 div.sk-parallel-item::before {content: \"\";position: absolute;border-left: 1px solid gray;box-sizing: border-box;top: 0;bottom: 0;left: 50%;z-index: -1;}#sk-container-id-2 div.sk-parallel-item {display: flex;flex-direction: column;z-index: 1;position: relative;background-color: white;}#sk-container-id-2 div.sk-parallel-item:first-child::after {align-self: flex-end;width: 50%;}#sk-container-id-2 div.sk-parallel-item:last-child::after {align-self: flex-start;width: 50%;}#sk-container-id-2 div.sk-parallel-item:only-child::after {width: 0;}#sk-container-id-2 div.sk-dashed-wrapped {border: 1px dashed gray;margin: 0 0.4em 0.5em 0.4em;box-sizing: border-box;padding-bottom: 0.4em;background-color: white;}#sk-container-id-2 div.sk-label label {font-family: monospace;font-weight: bold;display: inline-block;line-height: 1.2em;}#sk-container-id-2 div.sk-label-container {text-align: center;}#sk-container-id-2 div.sk-container {/* jupyter's `normalize.less` sets `[hidden] { display: none; }` but bootstrap.min.css set `[hidden] { display: none !important; }` so we also need the `!important` here to be able to override the default hidden behavior on the sphinx rendered scikit-learn.org. See: https://github.com/scikit-learn/scikit-learn/issues/21755 */display: inline-block !important;position: relative;}#sk-container-id-2 div.sk-text-repr-fallback {display: none;}</style><div id=\"sk-container-id-2\" class=\"sk-top-container\"><div class=\"sk-text-repr-fallback\"><pre>Lasso()</pre><b>In a Jupyter environment, please rerun this cell to show the HTML representation or trust the notebook. <br />On GitHub, the HTML representation is unable to render, please try loading this page with nbviewer.org.</b></div><div class=\"sk-container\" hidden><div class=\"sk-item\"><div class=\"sk-estimator sk-toggleable\"><input class=\"sk-toggleable__control sk-hidden--visually\" id=\"sk-estimator-id-2\" type=\"checkbox\" checked><label for=\"sk-estimator-id-2\" class=\"sk-toggleable__label sk-toggleable__label-arrow\">Lasso</label><div class=\"sk-toggleable__content\"><pre>Lasso()</pre></div></div></div></div></div>"
      ],
      "text/plain": [
       "Lasso()"
      ]
     },
     "execution_count": 114,
     "metadata": {},
     "output_type": "execute_result"
    }
   ],
   "source": [
    "las_reg_model=Lasso()\n",
    "las_reg_model.fit(X_train,y_train)"
   ]
  },
  {
   "cell_type": "code",
   "execution_count": 115,
   "id": "8f5e4fb4",
   "metadata": {},
   "outputs": [],
   "source": [
    "training_data_prediction=las_reg_model.predict(X_train)"
   ]
  },
  {
   "cell_type": "code",
   "execution_count": 116,
   "id": "ac58c213",
   "metadata": {},
   "outputs": [
    {
     "data": {
      "text/plain": [
       "array([ 3.56679076e+00,  5.60257564e+00,  8.28781371e+00, -8.30814314e-01,\n",
       "        5.27539880e+00,  6.50367937e+00,  5.73552938e+00,  6.41187200e+00,\n",
       "        4.78218845e+00,  1.54979701e+01,  2.60868685e+00,  1.68164537e+00,\n",
       "        4.65587149e-01,  5.14260426e+00,  6.87569869e+00,  1.60372469e+00,\n",
       "        5.30299396e+00,  1.39150016e+01,  2.86877663e+00,  6.44421824e+00,\n",
       "        9.38523430e-02,  9.99955865e+00,  1.79683394e+00,  2.66121014e+00,\n",
       "        2.10269105e-02,  1.39327221e+00,  1.01152846e+01,  4.55985698e-01,\n",
       "       -1.29850564e+00,  8.96458834e+00,  6.87473286e+00,  2.80689227e+00,\n",
       "        4.00679563e+00,  8.93707044e-01,  3.11243615e+00,  2.61344453e+00,\n",
       "        2.13519495e+00,  1.21115483e+00,  2.20395877e+00,  1.77253883e+00,\n",
       "        4.40123646e+00,  4.26379158e+00,  1.53108120e+00,  2.67410546e+00,\n",
       "        4.37186991e+00,  2.41613935e+00,  2.90706331e+00,  6.07491388e+00,\n",
       "        5.02364608e+00,  4.39669701e+00,  3.59203190e+00,  2.67643327e+00,\n",
       "        4.41172590e+00,  2.31675779e+00,  1.01438277e+00,  3.68609748e+00,\n",
       "        1.50265941e+00,  5.02295620e+00,  2.07310584e+00,  6.19074097e+00,\n",
       "        7.81981153e+00,  5.36371710e+00,  2.85946166e+00,  2.06195353e+01,\n",
       "        2.59676625e+00,  5.67574611e+00,  3.19801234e+00,  3.85355694e+00,\n",
       "        9.55121958e+00,  8.49791815e+00,  2.51738099e+00,  2.54374604e+00,\n",
       "        1.74412943e+00,  2.99336224e+00,  8.53160523e+00,  2.11403521e+00,\n",
       "        9.85877109e-01,  4.06172992e+00,  1.24243960e+01,  8.63857265e-01,\n",
       "        1.73710595e+00,  1.50535303e+00,  5.51391821e+00,  1.91090236e+00,\n",
       "        6.46820023e+00,  1.68362291e+01,  3.10416970e+00,  9.08788441e-01,\n",
       "        2.44750046e+00,  7.52561203e+00,  4.72686803e+00,  7.16105963e+00,\n",
       "        1.54738775e+01,  9.81695769e+00,  3.76103478e+00,  2.13174555e+00,\n",
       "        4.23928018e+00,  3.24691839e-01,  2.37516632e+00,  8.70375762e+00,\n",
       "        1.73114609e+00,  7.79945286e+00, -1.13832831e+00,  1.49379554e+00,\n",
       "        8.51653128e+00,  8.43758853e+00,  5.75926034e+00, -2.30786281e+00,\n",
       "        4.45696039e+00,  7.19764119e+00,  2.43683571e+00,  2.57402797e+00,\n",
       "        4.09758952e+00, -2.00027661e+00,  5.25604000e+00,  2.35875554e+00,\n",
       "        3.69959657e+00,  8.90505781e+00,  7.60524770e-01,  2.39953606e+00,\n",
       "        2.11786604e+00,  2.56171833e+00,  4.07376307e+00, -6.84111217e-01,\n",
       "        9.86474496e-01,  6.47597378e+00,  5.38818340e+00,  1.87278469e+00,\n",
       "        2.54919014e+00,  8.26697936e+00,  4.89131341e+00,  1.48141681e+00,\n",
       "        6.23782093e+00,  4.85807513e+00,  1.95739987e+00, -9.18670058e-01,\n",
       "        5.08094481e+00,  6.10021341e+00,  4.95364023e+00,  3.99985747e+00,\n",
       "        1.75162194e+00,  5.87870552e+00,  4.58194546e+00,  5.96745982e-01,\n",
       "        1.08857448e+01,  4.48228701e+00,  2.86840894e+00,  2.48503140e+00,\n",
       "        4.85001658e+00,  4.79632201e+00,  4.02159556e+00,  1.50296762e+01,\n",
       "       -1.71914820e-01,  1.84572285e+00,  5.01231967e+00,  2.71060060e+00,\n",
       "        6.04502309e+00,  2.85805043e+00,  4.83800806e+00,  4.55728445e+00,\n",
       "       -9.09287171e-02,  4.51519756e+00,  1.89608272e+01,  3.82573060e+00,\n",
       "        5.38349618e+00,  2.79249000e+00,  1.96939272e+00,  8.59294931e-01,\n",
       "        5.87285886e+00, -3.54252858e-02,  1.95161266e+01,  1.04722720e+00,\n",
       "        8.15988256e+00,  2.40177281e+00,  2.10017824e+00,  7.04992171e+00,\n",
       "        1.92160824e+01,  2.11621602e+00,  4.17925569e+00,  5.47724216e+00,\n",
       "        4.37853915e+00,  6.29256565e+00,  4.50141427e+00,  2.15807121e+00,\n",
       "        1.24880669e+00,  6.64084846e+00,  6.71760492e+00,  2.32750446e+00,\n",
       "       -1.82391271e+00,  4.21498265e+00,  4.75816168e+00,  5.49420629e+00,\n",
       "        5.16931116e-01,  7.09881804e+00,  4.48955833e+00,  8.62310387e+00,\n",
       "        1.45926524e+00,  1.16310309e+01,  5.67156354e+00,  7.06845952e-02,\n",
       "        5.04901982e+00,  5.14940420e+00,  5.22995197e+00,  4.81525889e+00,\n",
       "        6.53661979e+00,  2.57959101e+00,  2.57747729e+00,  4.93050173e+00,\n",
       "        3.57911142e+00,  1.86321101e-01,  4.64781871e+01,  4.11881586e+00,\n",
       "        3.58140650e+00,  1.11092946e+00,  1.00340457e+01,  4.96110883e+00,\n",
       "        5.68835346e+00,  2.18446439e+00,  7.80921976e+00,  7.76354731e+00,\n",
       "        4.56274957e+00,  3.43295920e+00,  4.71183470e+00,  4.95572777e+00,\n",
       "        1.45916562e+01,  8.10452348e+00,  4.76385516e+00, -6.04540511e-01,\n",
       "        2.75223204e+00,  2.95875479e+00,  6.04795704e+00,  3.36101870e+00,\n",
       "        1.61123152e+00,  6.66783862e+00,  4.16947133e+00,  8.20351050e+00,\n",
       "        2.64603280e+00,  1.53655182e+01,  5.19784951e+00,  1.21638029e+01,\n",
       "        9.27865919e+00,  2.25681325e+00,  8.54423030e-01,  8.74456138e+00,\n",
       "       -4.07142405e+00,  3.58089109e+00,  2.83644537e+00,  4.35662889e+00,\n",
       "        5.92489898e+00,  3.69214536e+00,  1.68362291e+01,  8.57790301e+00,\n",
       "        3.06583517e+00,  1.42458358e+00,  1.28472659e+00,  1.34194034e+00,\n",
       "        1.29161106e+00,  5.64389284e+00,  5.02387715e+00,  9.77644039e-02,\n",
       "        3.38158787e+00,  7.52514652e+00,  9.47185435e+00,  8.83358860e-01,\n",
       "        5.66045482e+00,  4.72210816e+00,  3.87680683e+00,  9.92366507e+00,\n",
       "        7.04992171e+00,  1.10945793e+00])"
      ]
     },
     "execution_count": 116,
     "metadata": {},
     "output_type": "execute_result"
    }
   ],
   "source": [
    "training_data_prediction"
   ]
  },
  {
   "cell_type": "code",
   "execution_count": 118,
   "id": "37ed58a4",
   "metadata": {},
   "outputs": [
    {
     "data": {
      "text/plain": [
       "204    2.75\n",
       "249    5.25\n",
       "277    9.70\n",
       "194    0.20\n",
       "244    5.95\n",
       "       ... \n",
       "75     3.95\n",
       "22     4.40\n",
       "72     7.45\n",
       "15     7.75\n",
       "168    0.42\n",
       "Name: Selling_Price, Length: 270, dtype: float64"
      ]
     },
     "execution_count": 118,
     "metadata": {},
     "output_type": "execute_result"
    }
   ],
   "source": [
    "y_train"
   ]
  },
  {
   "cell_type": "code",
   "execution_count": 119,
   "id": "af19b913",
   "metadata": {},
   "outputs": [],
   "source": [
    "# R SQUARED ERROR\n",
    "err=metrics.r2_score(y_train,training_data_prediction)"
   ]
  },
  {
   "cell_type": "code",
   "execution_count": 120,
   "id": "686468de",
   "metadata": {},
   "outputs": [
    {
     "name": "stdout",
     "output_type": "stream",
     "text": [
      "0.8427856123435794\n"
     ]
    }
   ],
   "source": [
    "print(err)"
   ]
  },
  {
   "cell_type": "code",
   "execution_count": 121,
   "id": "fc3b78b8",
   "metadata": {},
   "outputs": [
    {
     "data": {
      "text/plain": [
       "<seaborn.axisgrid.JointGrid at 0x1ab4d3db050>"
      ]
     },
     "execution_count": 121,
     "metadata": {},
     "output_type": "execute_result"
    },
    {
     "data": {
      "image/png": "[encoded data removed]",
      "text/plain": [
       "<Figure size 600x600 with 3 Axes>"
      ]
     },
     "metadata": {},
     "output_type": "display_data"
    }
   ],
   "source": [
    "sns.jointplot(x=y_train,y=training_data_prediction)"
   ]
  },
  {
   "cell_type": "code",
   "execution_count": 123,
   "id": "955d71ab",
   "metadata": {},
   "outputs": [],
   "source": [
    "test_data_prediction=las_reg_model.predict(X_test)"
   ]
  },
  {
   "cell_type": "code",
   "execution_count": 124,
   "id": "82928dcf",
   "metadata": {},
   "outputs": [
    {
     "data": {
      "text/plain": [
       "array([ 9.87888122,  1.42396266,  4.33267834,  3.17313445,  8.95590579,\n",
       "        4.29397384,  3.73913632,  5.66283974,  0.91478394,  5.25514316,\n",
       "        6.47238818,  4.39507335,  1.2955156 ,  8.26559961,  2.00292338,\n",
       "        2.32529219,  2.55349653,  2.34742172,  7.96895166,  4.18441245,\n",
       "        2.3369918 ,  7.86598537,  2.02308236,  8.56734786,  1.55498136,\n",
       "        6.48561097,  2.11427451, -1.18422036,  4.01710445,  2.21749695,\n",
       "        2.41820898])"
      ]
     },
     "execution_count": 124,
     "metadata": {},
     "output_type": "execute_result"
    }
   ],
   "source": [
    "test_data_prediction"
   ]
  },
  {
   "cell_type": "code",
   "execution_count": 125,
   "id": "152cfe7f",
   "metadata": {},
   "outputs": [
    {
     "data": {
      "text/plain": [
       "99      9.65\n",
       "161     0.45\n",
       "89      4.75\n",
       "30      3.10\n",
       "232    11.45\n",
       "290     4.50\n",
       "35      2.95\n",
       "7       6.50\n",
       "183     0.27\n",
       "13      6.10\n",
       "269     6.70\n",
       "65      4.75\n",
       "178     0.35\n",
       "258     8.40\n",
       "227     2.55\n",
       "133     0.72\n",
       "130     0.75\n",
       "156     0.48\n",
       "237    11.25\n",
       "262     4.00\n",
       "112     1.15\n",
       "282     8.25\n",
       "164     0.45\n",
       "275    10.90\n",
       "154     0.50\n",
       "29      7.45\n",
       "141     0.60\n",
       "192     0.20\n",
       "216     2.90\n",
       "3       2.85\n",
       "159     0.45\n",
       "Name: Selling_Price, dtype: float64"
      ]
     },
     "execution_count": 125,
     "metadata": {},
     "output_type": "execute_result"
    }
   ],
   "source": [
    "y_test"
   ]
  },
  {
   "cell_type": "code",
   "execution_count": 126,
   "id": "b9e78584",
   "metadata": {},
   "outputs": [],
   "source": [
    "## check for R squared value to compare\n",
    "err=metrics.r2_score(y_test,test_data_prediction)"
   ]
  },
  {
   "cell_type": "code",
   "execution_count": 127,
   "id": "664ea23e",
   "metadata": {},
   "outputs": [
    {
     "data": {
      "text/plain": [
       "0.8709167941173195"
      ]
     },
     "execution_count": 127,
     "metadata": {},
     "output_type": "execute_result"
    }
   ],
   "source": [
    "err"
   ]
  },
  {
   "cell_type": "code",
   "execution_count": 128,
   "id": "862df3a2",
   "metadata": {},
   "outputs": [],
   "source": [
    "## for visualization in actual and predicted test data "
   ]
  },
  {
   "cell_type": "code",
   "execution_count": 129,
   "id": "a55c2595",
   "metadata": {},
   "outputs": [
    {
     "data": {
      "text/plain": [
       "<seaborn.axisgrid.JointGrid at 0x1ab4c075f50>"
      ]
     },
     "execution_count": 129,
     "metadata": {},
     "output_type": "execute_result"
    },
    {
     "data": {
      "image/png": "[encoded data removed]",
      "text/plain": [
       "<Figure size 600x600 with 3 Axes>"
      ]
     },
     "metadata": {},
     "output_type": "display_data"
    }
   ],
   "source": [
    "sns.jointplot(x=y_test,y=test_data_prediction)"
   ]
  },
  {
   "cell_type": "code",
   "execution_count": null,
   "id": "dd2e0059",
   "metadata": {},
   "outputs": [],
   "source": []
  }
 ],
 "metadata": {
  "kernelspec": {
   "display_name": "Python 3 (ipykernel)",
   "language": "python",
   "name": "python3"
  },
  "language_info": {
   "codemirror_mode": {
    "name": "ipython",
    "version": 3
   },
   "file_extension": ".py",
   "mimetype": "text/x-python",
   "name": "python",
   "nbconvert_exporter": "python",
   "pygments_lexer": "ipython3",
   "version": "3.11.5"
  }
 },
 "nbformat": 4,
 "nbformat_minor": 5
}
